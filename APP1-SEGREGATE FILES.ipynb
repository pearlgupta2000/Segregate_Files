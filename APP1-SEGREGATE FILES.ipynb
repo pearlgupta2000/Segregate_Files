{
 "cells": [
  {
   "cell_type": "code",
   "execution_count": 5,
   "metadata": {},
   "outputs": [
    {
     "name": "stdout",
     "output_type": "stream",
     "text": [
      "0\n"
     ]
    }
   ],
   "source": [
    "l=[]\n",
    "print(len(l))"
   ]
  },
  {
   "cell_type": "code",
   "execution_count": 2,
   "metadata": {},
   "outputs": [
    {
     "name": "stdout",
     "output_type": "stream",
     "text": [
      "enter folder pathC:\\Users\\Hp\\Desktop\\pearl\\newww\n"
     ]
    }
   ],
   "source": [
    "import os,shutil\n",
    "list1={\n",
    "'audio_extensions':('.mp3','.m4a','.wav','.flac'),\n",
    "'video_extensions':('.mp4','.mkv','.flv','.MKV','.mpeg'),\n",
    "'documents_extensions':('.doc','.pdf','.txt'),\n",
    "'image_extensions':('.jpeg','.png','.jpg')    \n",
    "}\n",
    "\n",
    "def finder(folderpath,folder):\n",
    "    files=[]\n",
    "    for item in os.listdir(folderpath):\n",
    "        for extension in folder:\n",
    "            if item.endswith(extension):\n",
    "                files.append(item)\n",
    "                break\n",
    "    return files           \n",
    "def moving(folderpath,list1):\n",
    "    for folder1 in list1.items():\n",
    "        files=finder(folderpath,folder1[1])\n",
    "        if len(files)!=0:\n",
    "            folder_name=folder1[0].split('_')[0]\n",
    "            folder_path=os.path.join(folderpath,folder_name)\n",
    "            k=True\n",
    "            while k==True:\n",
    "                k=os.path.exists(folder_path)\n",
    "                if k==False:\n",
    "                    pass\n",
    "                else:\n",
    "                    folder_name=input((f'give some name for {folder_name} folder'))\n",
    "                    folder_path=os.path.join(folderpath,folder_name)\n",
    "                    k=os.path.exists(folder_path)\n",
    "            os.mkdir(folder_path)\n",
    "            for file in files:\n",
    "                file_path=os.path.join(folderpath,file)\n",
    "                file_new_path=os.path.join(folder_path,file)   \n",
    "                shutil.copy(file_path,file_new_path)\n",
    "           \n",
    "folderpath=input('enter folder path')\n",
    "moving(folderpath,list1)"
   ]
  },
  {
   "cell_type": "code",
   "execution_count": null,
   "metadata": {},
   "outputs": [],
   "source": []
  }
 ],
 "metadata": {
  "kernelspec": {
   "display_name": "Python 3",
   "language": "python",
   "name": "python3"
  },
  "language_info": {
   "codemirror_mode": {
    "name": "ipython",
    "version": 3
   },
   "file_extension": ".py",
   "mimetype": "text/x-python",
   "name": "python",
   "nbconvert_exporter": "python",
   "pygments_lexer": "ipython3",
   "version": "3.7.4"
  }
 },
 "nbformat": 4,
 "nbformat_minor": 2
}
